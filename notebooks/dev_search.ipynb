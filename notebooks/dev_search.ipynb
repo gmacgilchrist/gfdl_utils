{
 "cells": [
  {
   "cell_type": "code",
   "execution_count": 8,
   "id": "d037c3fa-8472-4d8a-9791-b341b22ddfcb",
   "metadata": {},
   "outputs": [],
   "source": [
    "import gfdl_utils as gu\n",
    "import os"
   ]
  },
  {
   "cell_type": "code",
   "execution_count": 82,
   "id": "44d94fe6-96f7-474f-aa06-0541338e2e15",
   "metadata": {},
   "outputs": [],
   "source": [
    "config_id = 'ESM4_historical_D1'\n",
    "pathDict = {'pp':('/archive/oar.gfdl.cmip6/ESM4/DECK/'+config_id+'/'+\n",
    "                    'gfdl.ncrc4-intel16-prod-openmp/pp/'),\n",
    "            'out':'ts',\n",
    "            'local':'annual/5yr',\n",
    "            'time':'*'}\n",
    "variable = 'o2'"
   ]
  },
  {
   "cell_type": "code",
   "execution_count": 83,
   "id": "28a49075-c911-42ca-88d6-e5248e4e0576",
   "metadata": {},
   "outputs": [],
   "source": [
    "def get_ppnames(pp):\n",
    "    \"\"\"\n",
    "    Return the list of folders in the pp directory\n",
    "    \"\"\"\n",
    "    return os.listdir(pp)\n",
    "\n",
    "def get_local(pp,ppname,out):\n",
    "    \"\"\"\n",
    "    Retrieve an unknown local file path in pp subdirectory.\n",
    "    \"\"\"\n",
    "    local1 = os.listdir(pp+ppname+'/'+out+'/')[0]\n",
    "    local2 = os.listdir(pp+ppname+'/'+out+'/'+local1)[0]\n",
    "    return local1+'/'+local2\n",
    "\n",
    "def get_varnames(pp,ppname):\n",
    "    \"\"\"\n",
    "    Return a list of variables in a specific pp subdirectory.\n",
    "    \"\"\"\n",
    "    try:\n",
    "        valid = True\n",
    "        local1 = os.listdir(pp+ppname+'/ts/')[0]\n",
    "    except:\n",
    "        valid = False\n",
    "        print(\"No ts directory in current pp/ppname file. Can't retrieve variables.\")\n",
    "\n",
    "    if valid:\n",
    "        local = get_local(pp,ppname,'ts')\n",
    "        files = os.listdir(pp+ppname+'/ts/'+local)\n",
    "\n",
    "        allvars = []\n",
    "        for file in files:\n",
    "            split = file.split('.')\n",
    "            if 'nc' not in split:\n",
    "                continue\n",
    "            else:\n",
    "                varname = split[-2]\n",
    "            if varname not in allvars:\n",
    "                allvars.append(varname)\n",
    "            else:\n",
    "                continue\n",
    "        return allvars\n",
    "\n",
    "def get_allvars(pp):\n",
    "    \"\"\"\n",
    "    Return a dictionary of all ppnames and their associated variables.\n",
    "    \"\"\"\n",
    "    ppnames = get_ppnames(pp)\n",
    "    allvars = {}\n",
    "    for ppname in ppnames:\n",
    "        varnames = get_varnames(pp,ppname)\n",
    "        if varnames is not None:\n",
    "            allvars[ppname]=varnames\n",
    "    return allvars\n",
    "\n",
    "def find_variable(pp,variable):\n",
    "    \"\"\"\n",
    "    Find the location of a specific variable in the pp folders.\n",
    "    \"\"\"\n",
    "    allvars = get_allvars(pp)\n",
    "    found=False\n",
    "    for ppname in allvars.keys():\n",
    "        varnames = allvars[ppname]\n",
    "        if variable in varnames:\n",
    "            found=True\n",
    "            print(variable+' is in '+ppname)\n",
    "        else:\n",
    "            continue\n",
    "    if found==False:\n",
    "        print('No '+variable+' in this pp.')"
   ]
  },
  {
   "cell_type": "code",
   "execution_count": 86,
   "id": "29242f57-8862-48d6-a5aa-00c9f3b68e0f",
   "metadata": {},
   "outputs": [
    {
     "name": "stdout",
     "output_type": "stream",
     "text": [
      "No ts directory in current pp/ppname file. Can't retrieve variables.\n",
      "No ts directory in current pp/ppname file. Can't retrieve variables.\n",
      "No ts directory in current pp/ppname file. Can't retrieve variables.\n",
      "No ts directory in current pp/ppname file. Can't retrieve variables.\n",
      "boundary_forcing_heat_tendency is in ocean_annual_z\n",
      "boundary_forcing_heat_tendency is in ocean_annual_z_1x1deg\n"
     ]
    }
   ],
   "source": [
    "config_id = 'ESM4_historical_D1'\n",
    "pp = '/archive/oar.gfdl.cmip6/ESM4/DECK/'+config_id+'/gfdl.ncrc4-intel16-prod-openmp/pp/'\n",
    "find_variable(pp,'boundary_forcing_heat_tendency')"
   ]
  },
  {
   "cell_type": "code",
   "execution_count": null,
   "id": "e238c758-9ec9-46b5-8c2b-dc23ad007375",
   "metadata": {},
   "outputs": [],
   "source": []
  }
 ],
 "metadata": {
  "kernelspec": {
   "display_name": "Python [conda env:om4labs]",
   "language": "python",
   "name": "conda-env-om4labs-py"
  },
  "language_info": {
   "codemirror_mode": {
    "name": "ipython",
    "version": 3
   },
   "file_extension": ".py",
   "mimetype": "text/x-python",
   "name": "python",
   "nbconvert_exporter": "python",
   "pygments_lexer": "ipython3",
   "version": "3.9.12"
  }
 },
 "nbformat": 4,
 "nbformat_minor": 5
}
