{
 "cells": [
  {
   "cell_type": "code",
   "execution_count": 1,
   "id": "6881282e",
   "metadata": {},
   "outputs": [],
   "source": [
    "%load_ext autoreload\n",
    "%autoreload 2"
   ]
  },
  {
   "cell_type": "code",
   "execution_count": 2,
   "id": "03dc0bb0",
   "metadata": {},
   "outputs": [],
   "source": [
    "import gfdl_utils as gu\n",
    "from gfdl_utils.core import get_pathspp\n",
    "import os"
   ]
  },
  {
   "cell_type": "code",
   "execution_count": 3,
   "id": "a4d1074b",
   "metadata": {},
   "outputs": [],
   "source": [
    "def issue_dmget(path):\n",
    "    cmd = (\"dmget %s &\" %path)\n",
    "    out = os.system(cmd)\n",
    "    return out"
   ]
  },
  {
   "cell_type": "code",
   "execution_count": 34,
   "id": "14d00fd9",
   "metadata": {},
   "outputs": [],
   "source": [
    "pathDict = {'pp':('/archive/oar.gfdl.cmip6/ESM4/DECK/ESM4_piControl_D/gfdl.ncrc4-intel16-prod-openmp/pp'),\n",
    "           'ppname':'ocean_annual_z_1x1deg',\n",
    "           'out':'av',\n",
    "           'local':'annual_5yr',\n",
    "           'time':'000*',\n",
    "           'add':'ann',\n",
    "           }\n",
    "path = get_pathspp(**pathDict)"
   ]
  },
  {
   "cell_type": "code",
   "execution_count": 35,
   "id": "74ed4e24",
   "metadata": {},
   "outputs": [
    {
     "data": {
      "text/plain": [
       "'/archive/oar.gfdl.cmip6/ESM4/DECK/ESM4_piControl_D/gfdl.ncrc4-intel16-prod-openmp/pp/ocean_annual_z_1x1deg/av/annual_5yr/ocean_annual_z_1x1deg.000*.ann.nc'"
      ]
     },
     "execution_count": 35,
     "metadata": {},
     "output_type": "execute_result"
    }
   ],
   "source": [
    "path"
   ]
  },
  {
   "cell_type": "code",
   "execution_count": 36,
   "id": "e000a5ba",
   "metadata": {},
   "outputs": [],
   "source": [
    "out = issue_dmget(path)"
   ]
  },
  {
   "cell_type": "code",
   "execution_count": 37,
   "id": "8b2ccfe6",
   "metadata": {},
   "outputs": [
    {
     "data": {
      "text/plain": [
       "0"
      ]
     },
     "execution_count": 37,
     "metadata": {},
     "output_type": "execute_result"
    }
   ],
   "source": [
    "out"
   ]
  },
  {
   "cell_type": "code",
   "execution_count": 48,
   "id": "1b35dc5a-c17b-486e-8c6a-38d1a20a0309",
   "metadata": {},
   "outputs": [],
   "source": [
    "def query_ondisk(path):\n",
    "    cmd = (\"dmls -l %s\" %path)\n",
    "    outputs = os.popen(cmd).read().split('\\n')\n",
    "    ondisk = {}\n",
    "    for output in outputs[:-1]:\n",
    "        if '(REG)' in output:\n",
    "            ondisk[output.split(' ')[-1]]=True\n",
    "        else:\n",
    "            ondisk[output.split(' ')[-1]]=False\n",
    "    return ondisk"
   ]
  },
  {
   "cell_type": "code",
   "execution_count": 50,
   "id": "62898f68-b069-41fa-8740-2d9926e1d3d0",
   "metadata": {},
   "outputs": [],
   "source": [
    "ondisk = query_ondisk(path)"
   ]
  },
  {
   "cell_type": "code",
   "execution_count": 60,
   "id": "59523aec-861b-4ebc-82ff-be0072e92306",
   "metadata": {},
   "outputs": [
    {
     "data": {
      "text/plain": [
       "{'/archive/oar.gfdl.cmip6/ESM4/DECK/ESM4_piControl_D/gfdl.ncrc4-intel16-prod-openmp/pp/ocean_annual_z_1x1deg/av/annual_5yr/ocean_annual_z_1x1deg.0001-0005.ann.nc': False,\n",
       " '/archive/oar.gfdl.cmip6/ESM4/DECK/ESM4_piControl_D/gfdl.ncrc4-intel16-prod-openmp/pp/ocean_annual_z_1x1deg/av/annual_5yr/ocean_annual_z_1x1deg.0006-0010.ann.nc': False}"
      ]
     },
     "execution_count": 60,
     "metadata": {},
     "output_type": "execute_result"
    }
   ],
   "source": [
    "ondisk"
   ]
  }
 ],
 "metadata": {
  "kernelspec": {
   "display_name": "Python [conda env:bio-pump-timescales]",
   "language": "python",
   "name": "conda-env-bio-pump-timescales-py"
  },
  "language_info": {
   "codemirror_mode": {
    "name": "ipython",
    "version": 3
   },
   "file_extension": ".py",
   "mimetype": "text/x-python",
   "name": "python",
   "nbconvert_exporter": "python",
   "pygments_lexer": "ipython3",
   "version": "3.9.7"
  }
 },
 "nbformat": 4,
 "nbformat_minor": 5
}
