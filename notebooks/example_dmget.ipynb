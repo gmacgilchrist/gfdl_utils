{
 "cells": [
  {
   "cell_type": "code",
   "execution_count": 1,
   "id": "6881282e",
   "metadata": {},
   "outputs": [],
   "source": [
    "%load_ext autoreload\n",
    "%autoreload 2"
   ]
  },
  {
   "cell_type": "code",
   "execution_count": 2,
   "id": "03dc0bb0",
   "metadata": {},
   "outputs": [],
   "source": [
    "import gfdl_utils as gu\n",
    "from gfdl_utils.core import get_pathspp\n",
    "import os"
   ]
  },
  {
   "cell_type": "code",
   "execution_count": 3,
   "id": "a4d1074b",
   "metadata": {},
   "outputs": [],
   "source": [
    "def issue_dmget(path):\n",
    "    cmd = (\"dmget %s &\" %path)\n",
    "    out = os.system(cmd)\n",
    "    return out"
   ]
  },
  {
   "cell_type": "code",
   "execution_count": 8,
   "id": "14d00fd9",
   "metadata": {},
   "outputs": [],
   "source": [
    "pathDict = {'pp':('/archive/oar.gfdl.cmip6/ESM4/DECK/ESM4_piControl_D/gfdl.ncrc4-intel16-prod-openmp/pp'),\n",
    "           'ppname':'ocean_annual_z_1x1deg',\n",
    "           'out':'av',\n",
    "           'local':'annual_5yr',\n",
    "           'time':'0001*',\n",
    "           'add':'ann',\n",
    "           }\n",
    "path,_ = get_pathspp(**pathDict,get_static=False)"
   ]
  },
  {
   "cell_type": "code",
   "execution_count": 9,
   "id": "74ed4e24",
   "metadata": {},
   "outputs": [
    {
     "data": {
      "text/plain": [
       "'/archive/oar.gfdl.cmip6/ESM4/DECK/ESM4_piControl_D/gfdl.ncrc4-intel16-prod-openmp/pp/ocean_annual_z_1x1deg/av/annual_5yr/ocean_annual_z_1x1deg.0001*.ann.nc'"
      ]
     },
     "execution_count": 9,
     "metadata": {},
     "output_type": "execute_result"
    }
   ],
   "source": [
    "path"
   ]
  },
  {
   "cell_type": "code",
   "execution_count": 10,
   "id": "e000a5ba",
   "metadata": {},
   "outputs": [],
   "source": [
    "out = issue_dmget(path)"
   ]
  },
  {
   "cell_type": "code",
   "execution_count": 11,
   "id": "8b2ccfe6",
   "metadata": {},
   "outputs": [
    {
     "data": {
      "text/plain": [
       "0"
      ]
     },
     "execution_count": 11,
     "metadata": {},
     "output_type": "execute_result"
    }
   ],
   "source": [
    "out"
   ]
  },
  {
   "cell_type": "code",
   "execution_count": null,
   "id": "00c0b60b",
   "metadata": {},
   "outputs": [],
   "source": []
  }
 ],
 "metadata": {
  "kernelspec": {
   "display_name": "Python [conda env:bio-pump-timescales]",
   "language": "python",
   "name": "conda-env-bio-pump-timescales-py"
  },
  "language_info": {
   "codemirror_mode": {
    "name": "ipython",
    "version": 3
   },
   "file_extension": ".py",
   "mimetype": "text/x-python",
   "name": "python",
   "nbconvert_exporter": "python",
   "pygments_lexer": "ipython3",
   "version": "3.9.7"
  }
 },
 "nbformat": 4,
 "nbformat_minor": 5
}
