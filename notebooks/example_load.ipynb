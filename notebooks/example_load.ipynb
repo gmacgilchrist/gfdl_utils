{
 "cells": [
  {
   "cell_type": "code",
   "execution_count": 13,
   "id": "30d2e683",
   "metadata": {},
   "outputs": [
    {
     "name": "stdout",
     "output_type": "stream",
     "text": [
      "The autoreload extension is already loaded. To reload it, use:\n",
      "  %reload_ext autoreload\n"
     ]
    }
   ],
   "source": [
    "%load_ext autoreload\n",
    "%autoreload 2"
   ]
  },
  {
   "cell_type": "code",
   "execution_count": 14,
   "id": "52aa8fca",
   "metadata": {},
   "outputs": [],
   "source": [
    "import xarray as xr\n",
    "import glob"
   ]
  },
  {
   "cell_type": "code",
   "execution_count": 3,
   "id": "62cc1716",
   "metadata": {},
   "outputs": [],
   "source": [
    "import gfdl_utils as gu"
   ]
  },
  {
   "cell_type": "code",
   "execution_count": 4,
   "id": "f8e0f2e8",
   "metadata": {},
   "outputs": [],
   "source": [
    "pathDict = {'pp':('/archive/gam/ESM4/DECK/ESM4_piControl_D/gfdl.ncrc4-intel16-prod-openmp/pp'),\n",
    "           'ppname':'ocean_cobalt_omip_tracers_month_z',\n",
    "           'out':'av',\n",
    "           'local':'monthly_1yr',\n",
    "           'time':'0851',\n",
    "           'add':'01',\n",
    "           }"
   ]
  },
  {
   "cell_type": "code",
   "execution_count": 5,
   "id": "d90fe6c0",
   "metadata": {},
   "outputs": [],
   "source": [
    "path,paths = gu.core.get_pathspp(**pathDict,get_static=True)"
   ]
  },
  {
   "cell_type": "code",
   "execution_count": 6,
   "id": "5bf9e1b8",
   "metadata": {},
   "outputs": [
    {
     "data": {
      "text/plain": [
       "'/archive/gam/ESM4/DECK/ESM4_piControl_D/gfdl.ncrc4-intel16-prod-openmp/pp/ocean_cobalt_omip_tracers_month_z/av/monthly_1yr/ocean_cobalt_omip_tracers_month_z.0851.01.nc'"
      ]
     },
     "execution_count": 6,
     "metadata": {},
     "output_type": "execute_result"
    }
   ],
   "source": [
    "path"
   ]
  },
  {
   "cell_type": "code",
   "execution_count": 7,
   "id": "24d6416e",
   "metadata": {},
   "outputs": [
    {
     "data": {
      "text/plain": [
       "['/archive/gam/ESM4/DECK/ESM4_piControl_D/gfdl.ncrc4-intel16-prod-openmp/pp/ocean_cobalt_omip_tracers_month_z/av/monthly_1yr/ocean_cobalt_omip_tracers_month_z.0851.01.nc',\n",
       " '/archive/gam/ESM4/DECK/ESM4_piControl_D/gfdl.ncrc4-intel16-prod-openmp/pp/ocean_cobalt_omip_tracers_month_z/ocean_cobalt_omip_tracers_month_z.static.nc']"
      ]
     },
     "execution_count": 7,
     "metadata": {},
     "output_type": "execute_result"
    }
   ],
   "source": [
    "paths"
   ]
  },
  {
   "cell_type": "code",
   "execution_count": 9,
   "id": "44806662",
   "metadata": {},
   "outputs": [],
   "source": [
    "ds = gu.core.open_frompp(**pathDict,get_static=True)"
   ]
  },
  {
   "cell_type": "code",
   "execution_count": 11,
   "id": "7ef0034e",
   "metadata": {},
   "outputs": [],
   "source": [
    "def test_get_pathspp():\n",
    "    truepath = ('/archive/gam/ESM4/DECK/ESM4_piControl_D'+\n",
    "                '/gfdl.ncrc4-intel16-prod-openmp/pp'+\n",
    "                '/ocean_cobalt_omip_tracers_month_z/av/monthly_1yr'+\n",
    "                '/ocean_cobalt_omip_tracers_month_z.0851.01.nc')\n",
    "    \n",
    "    derivedpath = gu.core.get_pathspp(**pathDict,get_static=False)\n",
    "    assert derivedpath==truepath"
   ]
  },
  {
   "cell_type": "code",
   "execution_count": 12,
   "id": "22a724da",
   "metadata": {},
   "outputs": [
    {
     "data": {
      "text/plain": [
       "('/archive/gam/ESM4/DECK/ESM4_piControl_D/gfdl.ncrc4-intel16-prod-openmp/pp/ocean_cobalt_omip_tracers_month_z/av/monthly_1yr/ocean_cobalt_omip_tracers_month_z.0851.01.nc',\n",
       " ['/archive/gam/ESM4/DECK/ESM4_piControl_D/gfdl.ncrc4-intel16-prod-openmp/pp/ocean_cobalt_omip_tracers_month_z/av/monthly_1yr/ocean_cobalt_omip_tracers_month_z.0851.01.nc'])"
      ]
     },
     "execution_count": 12,
     "metadata": {},
     "output_type": "execute_result"
    }
   ],
   "source": [
    "gu.core.get_pathspp(**pathDict,get_static=False)"
   ]
  },
  {
   "cell_type": "code",
   "execution_count": null,
   "id": "4857f417",
   "metadata": {},
   "outputs": [],
   "source": []
  }
 ],
 "metadata": {
  "kernelspec": {
   "display_name": "Python [conda env:bio-pump-timescales]",
   "language": "python",
   "name": "conda-env-bio-pump-timescales-py"
  },
  "language_info": {
   "codemirror_mode": {
    "name": "ipython",
    "version": 3
   },
   "file_extension": ".py",
   "mimetype": "text/x-python",
   "name": "python",
   "nbconvert_exporter": "python",
   "pygments_lexer": "ipython3",
   "version": "3.9.7"
  }
 },
 "nbformat": 4,
 "nbformat_minor": 5
}
